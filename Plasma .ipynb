{
 "cells": [
  {
   "cell_type": "code",
   "execution_count": 145,
   "metadata": {},
   "outputs": [],
   "source": [
    "import pandas as pd "
   ]
  },
  {
   "cell_type": "code",
   "execution_count": 146,
   "metadata": {},
   "outputs": [],
   "source": [
    "url=\"C:\\plasma_data.csv\""
   ]
  },
  {
   "cell_type": "code",
   "execution_count": 147,
   "metadata": {},
   "outputs": [],
   "source": [
    "df_plasma=pd.read_csv(url)"
   ]
  },
  {
   "cell_type": "code",
   "execution_count": 148,
   "metadata": {},
   "outputs": [],
   "source": [
    "headers=['name','Age','Weight','Blood_type','Blood_A','Blood_B','Blood_O','Eligibility','Intentions','PRERT']\n",
    "df_plasma.columns=headers"
   ]
  },
  {
   "cell_type": "code",
   "execution_count": 149,
   "metadata": {},
   "outputs": [
    {
     "data": {
      "text/html": [
       "<div>\n",
       "<style scoped>\n",
       "    .dataframe tbody tr th:only-of-type {\n",
       "        vertical-align: middle;\n",
       "    }\n",
       "\n",
       "    .dataframe tbody tr th {\n",
       "        vertical-align: top;\n",
       "    }\n",
       "\n",
       "    .dataframe thead th {\n",
       "        text-align: right;\n",
       "    }\n",
       "</style>\n",
       "<table border=\"1\" class=\"dataframe\">\n",
       "  <thead>\n",
       "    <tr style=\"text-align: right;\">\n",
       "      <th></th>\n",
       "      <th>name</th>\n",
       "      <th>Age</th>\n",
       "      <th>Weight</th>\n",
       "      <th>Blood_type</th>\n",
       "      <th>Blood_A</th>\n",
       "      <th>Blood_B</th>\n",
       "      <th>Blood_O</th>\n",
       "      <th>Eligibility</th>\n",
       "      <th>Intentions</th>\n",
       "      <th>PRERT</th>\n",
       "    </tr>\n",
       "  </thead>\n",
       "  <tbody>\n",
       "    <tr>\n",
       "      <th>0</th>\n",
       "      <td>mohsin ali</td>\n",
       "      <td>59</td>\n",
       "      <td>47</td>\n",
       "      <td>A</td>\n",
       "      <td>1</td>\n",
       "      <td>0</td>\n",
       "      <td>0</td>\n",
       "      <td>0</td>\n",
       "      <td>0</td>\n",
       "      <td>1</td>\n",
       "    </tr>\n",
       "    <tr>\n",
       "      <th>1</th>\n",
       "      <td>ramdin verma</td>\n",
       "      <td>79</td>\n",
       "      <td>79</td>\n",
       "      <td>A</td>\n",
       "      <td>1</td>\n",
       "      <td>0</td>\n",
       "      <td>0</td>\n",
       "      <td>0</td>\n",
       "      <td>1</td>\n",
       "      <td>0</td>\n",
       "    </tr>\n",
       "    <tr>\n",
       "      <th>2</th>\n",
       "      <td>sharat chandran</td>\n",
       "      <td>37</td>\n",
       "      <td>55</td>\n",
       "      <td>B</td>\n",
       "      <td>0</td>\n",
       "      <td>1</td>\n",
       "      <td>0</td>\n",
       "      <td>1</td>\n",
       "      <td>1</td>\n",
       "      <td>1</td>\n",
       "    </tr>\n",
       "    <tr>\n",
       "      <th>3</th>\n",
       "      <td>birender mandal</td>\n",
       "      <td>49</td>\n",
       "      <td>98</td>\n",
       "      <td>AB</td>\n",
       "      <td>0</td>\n",
       "      <td>0</td>\n",
       "      <td>0</td>\n",
       "      <td>1</td>\n",
       "      <td>0</td>\n",
       "      <td>1</td>\n",
       "    </tr>\n",
       "    <tr>\n",
       "      <th>4</th>\n",
       "      <td>amit</td>\n",
       "      <td>24</td>\n",
       "      <td>81</td>\n",
       "      <td>O</td>\n",
       "      <td>0</td>\n",
       "      <td>0</td>\n",
       "      <td>1</td>\n",
       "      <td>1</td>\n",
       "      <td>0</td>\n",
       "      <td>1</td>\n",
       "    </tr>\n",
       "  </tbody>\n",
       "</table>\n",
       "</div>"
      ],
      "text/plain": [
       "              name  Age  Weight Blood_type  Blood_A  Blood_B  Blood_O  \\\n",
       "0      mohsin ali    59      47          A        1        0        0   \n",
       "1     ramdin verma   79      79          A        1        0        0   \n",
       "2  sharat chandran   37      55          B        0        1        0   \n",
       "3  birender mandal   49      98         AB        0        0        0   \n",
       "4             amit   24      81          O        0        0        1   \n",
       "\n",
       "   Eligibility  Intentions  PRERT  \n",
       "0            0           0      1  \n",
       "1            0           1      0  \n",
       "2            1           1      1  \n",
       "3            1           0      1  \n",
       "4            1           0      1  "
      ]
     },
     "execution_count": 149,
     "metadata": {},
     "output_type": "execute_result"
    }
   ],
   "source": [
    "df_plasma.head()"
   ]
  },
  {
   "cell_type": "markdown",
   "metadata": {},
   "source": [
    "# Descriptive Analysis"
   ]
  },
  {
   "cell_type": "code",
   "execution_count": 150,
   "metadata": {},
   "outputs": [
    {
     "data": {
      "text/plain": [
       "name           object\n",
       "Age             int64\n",
       "Weight          int64\n",
       "Blood_type     object\n",
       "Blood_A         int64\n",
       "Blood_B         int64\n",
       "Blood_O         int64\n",
       "Eligibility     int64\n",
       "Intentions      int64\n",
       "PRERT           int64\n",
       "dtype: object"
      ]
     },
     "execution_count": 150,
     "metadata": {},
     "output_type": "execute_result"
    }
   ],
   "source": [
    "df_plasma.dtypes"
   ]
  },
  {
   "cell_type": "code",
   "execution_count": 151,
   "metadata": {},
   "outputs": [
    {
     "data": {
      "text/html": [
       "<div>\n",
       "<style scoped>\n",
       "    .dataframe tbody tr th:only-of-type {\n",
       "        vertical-align: middle;\n",
       "    }\n",
       "\n",
       "    .dataframe tbody tr th {\n",
       "        vertical-align: top;\n",
       "    }\n",
       "\n",
       "    .dataframe thead th {\n",
       "        text-align: right;\n",
       "    }\n",
       "</style>\n",
       "<table border=\"1\" class=\"dataframe\">\n",
       "  <thead>\n",
       "    <tr style=\"text-align: right;\">\n",
       "      <th></th>\n",
       "      <th>name</th>\n",
       "      <th>Age</th>\n",
       "      <th>Weight</th>\n",
       "      <th>Blood_type</th>\n",
       "      <th>Blood_A</th>\n",
       "      <th>Blood_B</th>\n",
       "      <th>Blood_O</th>\n",
       "      <th>Eligibility</th>\n",
       "      <th>Intentions</th>\n",
       "      <th>PRERT</th>\n",
       "    </tr>\n",
       "  </thead>\n",
       "  <tbody>\n",
       "    <tr>\n",
       "      <th>count</th>\n",
       "      <td>449</td>\n",
       "      <td>449.000000</td>\n",
       "      <td>449.000000</td>\n",
       "      <td>449</td>\n",
       "      <td>449.000000</td>\n",
       "      <td>449.000000</td>\n",
       "      <td>449.000000</td>\n",
       "      <td>449.000000</td>\n",
       "      <td>449.000000</td>\n",
       "      <td>449.000000</td>\n",
       "    </tr>\n",
       "    <tr>\n",
       "      <th>unique</th>\n",
       "      <td>394</td>\n",
       "      <td>NaN</td>\n",
       "      <td>NaN</td>\n",
       "      <td>6</td>\n",
       "      <td>NaN</td>\n",
       "      <td>NaN</td>\n",
       "      <td>NaN</td>\n",
       "      <td>NaN</td>\n",
       "      <td>NaN</td>\n",
       "      <td>NaN</td>\n",
       "    </tr>\n",
       "    <tr>\n",
       "      <th>top</th>\n",
       "      <td>sanjay</td>\n",
       "      <td>NaN</td>\n",
       "      <td>NaN</td>\n",
       "      <td>A</td>\n",
       "      <td>NaN</td>\n",
       "      <td>NaN</td>\n",
       "      <td>NaN</td>\n",
       "      <td>NaN</td>\n",
       "      <td>NaN</td>\n",
       "      <td>NaN</td>\n",
       "    </tr>\n",
       "    <tr>\n",
       "      <th>freq</th>\n",
       "      <td>6</td>\n",
       "      <td>NaN</td>\n",
       "      <td>NaN</td>\n",
       "      <td>132</td>\n",
       "      <td>NaN</td>\n",
       "      <td>NaN</td>\n",
       "      <td>NaN</td>\n",
       "      <td>NaN</td>\n",
       "      <td>NaN</td>\n",
       "      <td>NaN</td>\n",
       "    </tr>\n",
       "    <tr>\n",
       "      <th>mean</th>\n",
       "      <td>NaN</td>\n",
       "      <td>47.697105</td>\n",
       "      <td>67.648107</td>\n",
       "      <td>NaN</td>\n",
       "      <td>0.293987</td>\n",
       "      <td>0.213808</td>\n",
       "      <td>0.233853</td>\n",
       "      <td>0.429844</td>\n",
       "      <td>0.498886</td>\n",
       "      <td>0.478842</td>\n",
       "    </tr>\n",
       "    <tr>\n",
       "      <th>std</th>\n",
       "      <td>NaN</td>\n",
       "      <td>18.467201</td>\n",
       "      <td>19.232390</td>\n",
       "      <td>NaN</td>\n",
       "      <td>0.456094</td>\n",
       "      <td>0.410451</td>\n",
       "      <td>0.423752</td>\n",
       "      <td>0.495606</td>\n",
       "      <td>0.500556</td>\n",
       "      <td>0.500109</td>\n",
       "    </tr>\n",
       "    <tr>\n",
       "      <th>min</th>\n",
       "      <td>NaN</td>\n",
       "      <td>16.000000</td>\n",
       "      <td>35.000000</td>\n",
       "      <td>NaN</td>\n",
       "      <td>0.000000</td>\n",
       "      <td>0.000000</td>\n",
       "      <td>0.000000</td>\n",
       "      <td>0.000000</td>\n",
       "      <td>0.000000</td>\n",
       "      <td>0.000000</td>\n",
       "    </tr>\n",
       "    <tr>\n",
       "      <th>25%</th>\n",
       "      <td>NaN</td>\n",
       "      <td>32.000000</td>\n",
       "      <td>50.000000</td>\n",
       "      <td>NaN</td>\n",
       "      <td>0.000000</td>\n",
       "      <td>0.000000</td>\n",
       "      <td>0.000000</td>\n",
       "      <td>0.000000</td>\n",
       "      <td>0.000000</td>\n",
       "      <td>0.000000</td>\n",
       "    </tr>\n",
       "    <tr>\n",
       "      <th>50%</th>\n",
       "      <td>NaN</td>\n",
       "      <td>48.000000</td>\n",
       "      <td>69.000000</td>\n",
       "      <td>NaN</td>\n",
       "      <td>0.000000</td>\n",
       "      <td>0.000000</td>\n",
       "      <td>0.000000</td>\n",
       "      <td>0.000000</td>\n",
       "      <td>0.000000</td>\n",
       "      <td>0.000000</td>\n",
       "    </tr>\n",
       "    <tr>\n",
       "      <th>75%</th>\n",
       "      <td>NaN</td>\n",
       "      <td>63.000000</td>\n",
       "      <td>84.000000</td>\n",
       "      <td>NaN</td>\n",
       "      <td>1.000000</td>\n",
       "      <td>0.000000</td>\n",
       "      <td>0.000000</td>\n",
       "      <td>1.000000</td>\n",
       "      <td>1.000000</td>\n",
       "      <td>1.000000</td>\n",
       "    </tr>\n",
       "    <tr>\n",
       "      <th>max</th>\n",
       "      <td>NaN</td>\n",
       "      <td>80.000000</td>\n",
       "      <td>100.000000</td>\n",
       "      <td>NaN</td>\n",
       "      <td>1.000000</td>\n",
       "      <td>1.000000</td>\n",
       "      <td>1.000000</td>\n",
       "      <td>1.000000</td>\n",
       "      <td>1.000000</td>\n",
       "      <td>1.000000</td>\n",
       "    </tr>\n",
       "  </tbody>\n",
       "</table>\n",
       "</div>"
      ],
      "text/plain": [
       "          name         Age      Weight Blood_type     Blood_A     Blood_B  \\\n",
       "count      449  449.000000  449.000000        449  449.000000  449.000000   \n",
       "unique     394         NaN         NaN          6         NaN         NaN   \n",
       "top     sanjay         NaN         NaN          A         NaN         NaN   \n",
       "freq         6         NaN         NaN        132         NaN         NaN   \n",
       "mean       NaN   47.697105   67.648107        NaN    0.293987    0.213808   \n",
       "std        NaN   18.467201   19.232390        NaN    0.456094    0.410451   \n",
       "min        NaN   16.000000   35.000000        NaN    0.000000    0.000000   \n",
       "25%        NaN   32.000000   50.000000        NaN    0.000000    0.000000   \n",
       "50%        NaN   48.000000   69.000000        NaN    0.000000    0.000000   \n",
       "75%        NaN   63.000000   84.000000        NaN    1.000000    0.000000   \n",
       "max        NaN   80.000000  100.000000        NaN    1.000000    1.000000   \n",
       "\n",
       "           Blood_O  Eligibility  Intentions       PRERT  \n",
       "count   449.000000   449.000000  449.000000  449.000000  \n",
       "unique         NaN          NaN         NaN         NaN  \n",
       "top            NaN          NaN         NaN         NaN  \n",
       "freq           NaN          NaN         NaN         NaN  \n",
       "mean      0.233853     0.429844    0.498886    0.478842  \n",
       "std       0.423752     0.495606    0.500556    0.500109  \n",
       "min       0.000000     0.000000    0.000000    0.000000  \n",
       "25%       0.000000     0.000000    0.000000    0.000000  \n",
       "50%       0.000000     0.000000    0.000000    0.000000  \n",
       "75%       0.000000     1.000000    1.000000    1.000000  \n",
       "max       1.000000     1.000000    1.000000    1.000000  "
      ]
     },
     "execution_count": 151,
     "metadata": {},
     "output_type": "execute_result"
    }
   ],
   "source": [
    "df_plasma.describe(include=\"all\")"
   ]
  },
  {
   "cell_type": "code",
   "execution_count": 152,
   "metadata": {},
   "outputs": [
    {
     "data": {
      "text/html": [
       "<div>\n",
       "<style scoped>\n",
       "    .dataframe tbody tr th:only-of-type {\n",
       "        vertical-align: middle;\n",
       "    }\n",
       "\n",
       "    .dataframe tbody tr th {\n",
       "        vertical-align: top;\n",
       "    }\n",
       "\n",
       "    .dataframe thead th {\n",
       "        text-align: right;\n",
       "    }\n",
       "</style>\n",
       "<table border=\"1\" class=\"dataframe\">\n",
       "  <thead>\n",
       "    <tr style=\"text-align: right;\">\n",
       "      <th></th>\n",
       "      <th>name</th>\n",
       "      <th>Age</th>\n",
       "      <th>Weight</th>\n",
       "      <th>Blood_type</th>\n",
       "      <th>Blood_A</th>\n",
       "      <th>Blood_B</th>\n",
       "      <th>Blood_O</th>\n",
       "      <th>Eligibility</th>\n",
       "      <th>Intentions</th>\n",
       "      <th>PRERT</th>\n",
       "    </tr>\n",
       "  </thead>\n",
       "  <tbody>\n",
       "    <tr>\n",
       "      <th>0</th>\n",
       "      <td>mohsin ali</td>\n",
       "      <td>59</td>\n",
       "      <td>47</td>\n",
       "      <td>A</td>\n",
       "      <td>1</td>\n",
       "      <td>0</td>\n",
       "      <td>0</td>\n",
       "      <td>0</td>\n",
       "      <td>0</td>\n",
       "      <td>1</td>\n",
       "    </tr>\n",
       "    <tr>\n",
       "      <th>1</th>\n",
       "      <td>ramdin verma</td>\n",
       "      <td>79</td>\n",
       "      <td>79</td>\n",
       "      <td>A</td>\n",
       "      <td>1</td>\n",
       "      <td>0</td>\n",
       "      <td>0</td>\n",
       "      <td>0</td>\n",
       "      <td>1</td>\n",
       "      <td>0</td>\n",
       "    </tr>\n",
       "    <tr>\n",
       "      <th>2</th>\n",
       "      <td>sharat chandran</td>\n",
       "      <td>37</td>\n",
       "      <td>55</td>\n",
       "      <td>B</td>\n",
       "      <td>0</td>\n",
       "      <td>1</td>\n",
       "      <td>0</td>\n",
       "      <td>1</td>\n",
       "      <td>1</td>\n",
       "      <td>1</td>\n",
       "    </tr>\n",
       "    <tr>\n",
       "      <th>3</th>\n",
       "      <td>birender mandal</td>\n",
       "      <td>49</td>\n",
       "      <td>98</td>\n",
       "      <td>AB</td>\n",
       "      <td>0</td>\n",
       "      <td>0</td>\n",
       "      <td>0</td>\n",
       "      <td>1</td>\n",
       "      <td>0</td>\n",
       "      <td>1</td>\n",
       "    </tr>\n",
       "    <tr>\n",
       "      <th>4</th>\n",
       "      <td>amit</td>\n",
       "      <td>24</td>\n",
       "      <td>81</td>\n",
       "      <td>O</td>\n",
       "      <td>0</td>\n",
       "      <td>0</td>\n",
       "      <td>1</td>\n",
       "      <td>1</td>\n",
       "      <td>0</td>\n",
       "      <td>1</td>\n",
       "    </tr>\n",
       "    <tr>\n",
       "      <th>...</th>\n",
       "      <td>...</td>\n",
       "      <td>...</td>\n",
       "      <td>...</td>\n",
       "      <td>...</td>\n",
       "      <td>...</td>\n",
       "      <td>...</td>\n",
       "      <td>...</td>\n",
       "      <td>...</td>\n",
       "      <td>...</td>\n",
       "      <td>...</td>\n",
       "    </tr>\n",
       "    <tr>\n",
       "      <th>444</th>\n",
       "      <td>jaipal</td>\n",
       "      <td>33</td>\n",
       "      <td>42</td>\n",
       "      <td>AB</td>\n",
       "      <td>0</td>\n",
       "      <td>0</td>\n",
       "      <td>0</td>\n",
       "      <td>0</td>\n",
       "      <td>0</td>\n",
       "      <td>0</td>\n",
       "    </tr>\n",
       "    <tr>\n",
       "      <th>445</th>\n",
       "      <td>jalil ansari</td>\n",
       "      <td>18</td>\n",
       "      <td>83</td>\n",
       "      <td>O</td>\n",
       "      <td>0</td>\n",
       "      <td>0</td>\n",
       "      <td>1</td>\n",
       "      <td>1</td>\n",
       "      <td>0</td>\n",
       "      <td>1</td>\n",
       "    </tr>\n",
       "    <tr>\n",
       "      <th>446</th>\n",
       "      <td>deepak verma</td>\n",
       "      <td>69</td>\n",
       "      <td>77</td>\n",
       "      <td>P</td>\n",
       "      <td>0</td>\n",
       "      <td>0</td>\n",
       "      <td>0</td>\n",
       "      <td>1</td>\n",
       "      <td>1</td>\n",
       "      <td>0</td>\n",
       "    </tr>\n",
       "    <tr>\n",
       "      <th>447</th>\n",
       "      <td>kasim</td>\n",
       "      <td>18</td>\n",
       "      <td>78</td>\n",
       "      <td>O</td>\n",
       "      <td>0</td>\n",
       "      <td>0</td>\n",
       "      <td>1</td>\n",
       "      <td>1</td>\n",
       "      <td>0</td>\n",
       "      <td>1</td>\n",
       "    </tr>\n",
       "    <tr>\n",
       "      <th>448</th>\n",
       "      <td>monu kumar</td>\n",
       "      <td>56</td>\n",
       "      <td>43</td>\n",
       "      <td>O</td>\n",
       "      <td>0</td>\n",
       "      <td>0</td>\n",
       "      <td>1</td>\n",
       "      <td>0</td>\n",
       "      <td>0</td>\n",
       "      <td>1</td>\n",
       "    </tr>\n",
       "  </tbody>\n",
       "</table>\n",
       "<p>449 rows × 10 columns</p>\n",
       "</div>"
      ],
      "text/plain": [
       "                name  Age  Weight Blood_type  Blood_A  Blood_B  Blood_O  \\\n",
       "0        mohsin ali    59      47          A        1        0        0   \n",
       "1       ramdin verma   79      79          A        1        0        0   \n",
       "2    sharat chandran   37      55          B        0        1        0   \n",
       "3    birender mandal   49      98         AB        0        0        0   \n",
       "4               amit   24      81          O        0        0        1   \n",
       "..               ...  ...     ...        ...      ...      ...      ...   \n",
       "444           jaipal   33      42         AB        0        0        0   \n",
       "445     jalil ansari   18      83          O        0        0        1   \n",
       "446     deepak verma   69      77          P        0        0        0   \n",
       "447            kasim   18      78          O        0        0        1   \n",
       "448       monu kumar   56      43          O        0        0        1   \n",
       "\n",
       "     Eligibility  Intentions  PRERT  \n",
       "0              0           0      1  \n",
       "1              0           1      0  \n",
       "2              1           1      1  \n",
       "3              1           0      1  \n",
       "4              1           0      1  \n",
       "..           ...         ...    ...  \n",
       "444            0           0      0  \n",
       "445            1           0      1  \n",
       "446            1           1      0  \n",
       "447            1           0      1  \n",
       "448            0           0      1  \n",
       "\n",
       "[449 rows x 10 columns]"
      ]
     },
     "execution_count": 152,
     "metadata": {},
     "output_type": "execute_result"
    }
   ],
   "source": [
    "df_plasma.dropna(axis=0)"
   ]
  },
  {
   "cell_type": "markdown",
   "metadata": {},
   "source": [
    "# Exploratory Analysis"
   ]
  },
  {
   "cell_type": "code",
   "execution_count": 153,
   "metadata": {},
   "outputs": [],
   "source": [
    "import matplotlib as plt \n",
    "from matplotlib import pyplot"
   ]
  },
  {
   "cell_type": "code",
   "execution_count": 154,
   "metadata": {},
   "outputs": [
    {
     "data": {
      "text/plain": [
       "Text(0, 0.5, 'Count')"
      ]
     },
     "execution_count": 154,
     "metadata": {},
     "output_type": "execute_result"
    },
    {
     "data": {
      "image/png": "[encoded data removed]",
      "text/plain": [
       "<Figure size 432x288 with 1 Axes>"
      ]
     },
     "metadata": {
      "needs_background": "light"
     },
     "output_type": "display_data"
    }
   ],
   "source": [
    "#Histogram \n",
    "\n",
    "plt.pyplot.hist(df_plasma[\"Age\"],color=\"green\")\n",
    "plt.pyplot.xlabel(\"Age\")\n",
    "plt.pyplot.ylabel(\"Count\")"
   ]
  },
  {
   "cell_type": "code",
   "execution_count": 155,
   "metadata": {},
   "outputs": [],
   "source": [
    "#Correlation \n",
    "from scipy import stats "
   ]
  },
  {
   "cell_type": "code",
   "execution_count": 156,
   "metadata": {},
   "outputs": [
    {
     "data": {
      "text/html": [
       "<div>\n",
       "<style scoped>\n",
       "    .dataframe tbody tr th:only-of-type {\n",
       "        vertical-align: middle;\n",
       "    }\n",
       "\n",
       "    .dataframe tbody tr th {\n",
       "        vertical-align: top;\n",
       "    }\n",
       "\n",
       "    .dataframe thead th {\n",
       "        text-align: right;\n",
       "    }\n",
       "</style>\n",
       "<table border=\"1\" class=\"dataframe\">\n",
       "  <thead>\n",
       "    <tr style=\"text-align: right;\">\n",
       "      <th></th>\n",
       "      <th>name</th>\n",
       "      <th>Age</th>\n",
       "      <th>Weight</th>\n",
       "      <th>Blood_A</th>\n",
       "      <th>Blood_B</th>\n",
       "      <th>Blood_O</th>\n",
       "      <th>Eligibility</th>\n",
       "      <th>Intentions</th>\n",
       "      <th>PRERT</th>\n",
       "    </tr>\n",
       "  </thead>\n",
       "  <tbody>\n",
       "    <tr>\n",
       "      <th>0</th>\n",
       "      <td>mohsin ali</td>\n",
       "      <td>59</td>\n",
       "      <td>47</td>\n",
       "      <td>1</td>\n",
       "      <td>0</td>\n",
       "      <td>0</td>\n",
       "      <td>0</td>\n",
       "      <td>0</td>\n",
       "      <td>1</td>\n",
       "    </tr>\n",
       "    <tr>\n",
       "      <th>1</th>\n",
       "      <td>ramdin verma</td>\n",
       "      <td>79</td>\n",
       "      <td>79</td>\n",
       "      <td>1</td>\n",
       "      <td>0</td>\n",
       "      <td>0</td>\n",
       "      <td>0</td>\n",
       "      <td>1</td>\n",
       "      <td>0</td>\n",
       "    </tr>\n",
       "    <tr>\n",
       "      <th>2</th>\n",
       "      <td>sharat chandran</td>\n",
       "      <td>37</td>\n",
       "      <td>55</td>\n",
       "      <td>0</td>\n",
       "      <td>1</td>\n",
       "      <td>0</td>\n",
       "      <td>1</td>\n",
       "      <td>1</td>\n",
       "      <td>1</td>\n",
       "    </tr>\n",
       "    <tr>\n",
       "      <th>3</th>\n",
       "      <td>birender mandal</td>\n",
       "      <td>49</td>\n",
       "      <td>98</td>\n",
       "      <td>0</td>\n",
       "      <td>0</td>\n",
       "      <td>0</td>\n",
       "      <td>1</td>\n",
       "      <td>0</td>\n",
       "      <td>1</td>\n",
       "    </tr>\n",
       "    <tr>\n",
       "      <th>4</th>\n",
       "      <td>amit</td>\n",
       "      <td>24</td>\n",
       "      <td>81</td>\n",
       "      <td>0</td>\n",
       "      <td>0</td>\n",
       "      <td>1</td>\n",
       "      <td>1</td>\n",
       "      <td>0</td>\n",
       "      <td>1</td>\n",
       "    </tr>\n",
       "    <tr>\n",
       "      <th>...</th>\n",
       "      <td>...</td>\n",
       "      <td>...</td>\n",
       "      <td>...</td>\n",
       "      <td>...</td>\n",
       "      <td>...</td>\n",
       "      <td>...</td>\n",
       "      <td>...</td>\n",
       "      <td>...</td>\n",
       "      <td>...</td>\n",
       "    </tr>\n",
       "    <tr>\n",
       "      <th>444</th>\n",
       "      <td>jaipal</td>\n",
       "      <td>33</td>\n",
       "      <td>42</td>\n",
       "      <td>0</td>\n",
       "      <td>0</td>\n",
       "      <td>0</td>\n",
       "      <td>0</td>\n",
       "      <td>0</td>\n",
       "      <td>0</td>\n",
       "    </tr>\n",
       "    <tr>\n",
       "      <th>445</th>\n",
       "      <td>jalil ansari</td>\n",
       "      <td>18</td>\n",
       "      <td>83</td>\n",
       "      <td>0</td>\n",
       "      <td>0</td>\n",
       "      <td>1</td>\n",
       "      <td>1</td>\n",
       "      <td>0</td>\n",
       "      <td>1</td>\n",
       "    </tr>\n",
       "    <tr>\n",
       "      <th>446</th>\n",
       "      <td>deepak verma</td>\n",
       "      <td>69</td>\n",
       "      <td>77</td>\n",
       "      <td>0</td>\n",
       "      <td>0</td>\n",
       "      <td>0</td>\n",
       "      <td>1</td>\n",
       "      <td>1</td>\n",
       "      <td>0</td>\n",
       "    </tr>\n",
       "    <tr>\n",
       "      <th>447</th>\n",
       "      <td>kasim</td>\n",
       "      <td>18</td>\n",
       "      <td>78</td>\n",
       "      <td>0</td>\n",
       "      <td>0</td>\n",
       "      <td>1</td>\n",
       "      <td>1</td>\n",
       "      <td>0</td>\n",
       "      <td>1</td>\n",
       "    </tr>\n",
       "    <tr>\n",
       "      <th>448</th>\n",
       "      <td>monu kumar</td>\n",
       "      <td>56</td>\n",
       "      <td>43</td>\n",
       "      <td>0</td>\n",
       "      <td>0</td>\n",
       "      <td>1</td>\n",
       "      <td>0</td>\n",
       "      <td>0</td>\n",
       "      <td>1</td>\n",
       "    </tr>\n",
       "  </tbody>\n",
       "</table>\n",
       "<p>449 rows × 9 columns</p>\n",
       "</div>"
      ],
      "text/plain": [
       "                name  Age  Weight  Blood_A  Blood_B  Blood_O  Eligibility  \\\n",
       "0        mohsin ali    59      47        1        0        0            0   \n",
       "1       ramdin verma   79      79        1        0        0            0   \n",
       "2    sharat chandran   37      55        0        1        0            1   \n",
       "3    birender mandal   49      98        0        0        0            1   \n",
       "4               amit   24      81        0        0        1            1   \n",
       "..               ...  ...     ...      ...      ...      ...          ...   \n",
       "444           jaipal   33      42        0        0        0            0   \n",
       "445     jalil ansari   18      83        0        0        1            1   \n",
       "446     deepak verma   69      77        0        0        0            1   \n",
       "447            kasim   18      78        0        0        1            1   \n",
       "448       monu kumar   56      43        0        0        1            0   \n",
       "\n",
       "     Intentions  PRERT  \n",
       "0             0      1  \n",
       "1             1      0  \n",
       "2             1      1  \n",
       "3             0      1  \n",
       "4             0      1  \n",
       "..          ...    ...  \n",
       "444           0      0  \n",
       "445           0      1  \n",
       "446           1      0  \n",
       "447           0      1  \n",
       "448           0      1  \n",
       "\n",
       "[449 rows x 9 columns]"
      ]
     },
     "execution_count": 156,
     "metadata": {},
     "output_type": "execute_result"
    }
   ],
   "source": [
    "#DROPPING VARIABLE \"Blood_type\"\n",
    "df_plasma.drop('Blood_type',axis=1)"
   ]
  },
  {
   "cell_type": "markdown",
   "metadata": {},
   "source": [
    "Correlation of \"Eligibility\" with different variables"
   ]
  },
  {
   "cell_type": "code",
   "execution_count": 157,
   "metadata": {},
   "outputs": [
    {
     "data": {
      "text/plain": [
       "Age           -0.100856\n",
       "PRERT         -0.030768\n",
       "Blood_A       -0.017177\n",
       "Blood_O        0.009208\n",
       "Intentions     0.060419\n",
       "Blood_B        0.128768\n",
       "Weight         0.352891\n",
       "Eligibility    1.000000\n",
       "Name: Eligibility, dtype: float64"
      ]
     },
     "execution_count": 157,
     "metadata": {},
     "output_type": "execute_result"
    }
   ],
   "source": [
    "df_plasma.corr()[\"Eligibility\"].sort_values()"
   ]
  },
  {
   "cell_type": "markdown",
   "metadata": {},
   "source": [
    "# ANOVA"
   ]
  },
  {
   "cell_type": "code",
   "execution_count": 158,
   "metadata": {},
   "outputs": [],
   "source": [
    "anova_age=stats.f_oneway(df_plasma['Eligibility'],df_plasma['Age'])\n",
    "anova_weight=stats.f_oneway(df_plasma['Eligibility'],df_plasma['Weight'])\n",
    "anova_intent=stats.f_oneway(df_plasma['Eligibility'],df_plasma['Intentions'])\n",
    "anova_A=stats.f_oneway(df_plasma['Eligibility'],df_plasma['Blood_A'])\n",
    "anova_B=stats.f_oneway(df_plasma['Eligibility'],df_plasma['Blood_B'])\n",
    "anova_O=stats.f_oneway(df_plasma['Eligibility'],df_plasma['Blood_O'])\n",
    "anova_prert=stats.f_oneway(df_plasma['Eligibility'],df_plasma['PRERT'])"
   ]
  },
  {
   "cell_type": "code",
   "execution_count": 159,
   "metadata": {},
   "outputs": [
    {
     "name": "stdout",
     "output_type": "stream",
     "text": [
      "anova_age: F_onewayResult(statistic=2939.3572558551027, pvalue=3.734853401746918e-285) anova_weight: F_onewayResult(statistic=5481.079433861705, pvalue=0.0) anova_intent: F_onewayResult(statistic=4.3135620391151015, pvalue=0.038094174793031926) anova_A: F_onewayResult(statistic=18.26818042344277, pvalue=2.1244187887242e-05) anova_B: F_onewayResult(statistic=50.60545524394929, pvalue=2.3107232099465483e-12) anova_,O: F_onewayResult(statistic=40.56346459638949, pvalue=3.038002163233647e-10) anova_prert: F_onewayResult(statistic=2.1744519545117242, pvalue=0.14067076171411244)\n"
     ]
    }
   ],
   "source": [
    "print('anova_age:',anova_age,\n",
    "      'anova_weight:',anova_weight,\n",
    "      'anova_intent:',anova_intent,\n",
    "      'anova_A:',anova_A,\n",
    "      'anova_B:',anova_B,\n",
    "      'anova_,O:',anova_O,\n",
    "     'anova_prert:',anova_prert)"
   ]
  },
  {
   "cell_type": "markdown",
   "metadata": {},
   "source": [
    "OF THE ABOVE VARIABLES ONLY \"INTENTION\" & \"PRERT\" ARE STATSISTICALLY UNSIGNIFICANT BECAUSE OF LOW F-STAT VALUE AND HIGH P-VALUE,SO BOTH WILL NOT BE CONSIDER FOR THE MODEL DEVELOPMENT \n"
   ]
  },
  {
   "cell_type": "markdown",
   "metadata": {},
   "source": [
    "# REGRESSION "
   ]
  },
  {
   "cell_type": "code",
   "execution_count": 160,
   "metadata": {},
   "outputs": [],
   "source": [
    "from sklearn.linear_model import LinearRegression"
   ]
  },
  {
   "cell_type": "code",
   "execution_count": 161,
   "metadata": {},
   "outputs": [],
   "source": [
    "lm=LinearRegression() "
   ]
  },
  {
   "cell_type": "code",
   "execution_count": 162,
   "metadata": {},
   "outputs": [],
   "source": [
    "z=df_plasma[['Age','Weight','Blood_A','Blood_B','Blood_O']]\n",
    "y=df_plasma['Eligibility']"
   ]
  },
  {
   "cell_type": "code",
   "execution_count": 163,
   "metadata": {},
   "outputs": [
    {
     "data": {
      "text/plain": [
       "LinearRegression()"
      ]
     },
     "execution_count": 163,
     "metadata": {},
     "output_type": "execute_result"
    }
   ],
   "source": [
    "#TRAIN THE MODEL \n",
    "lm.fit(z,y)"
   ]
  },
  {
   "cell_type": "code",
   "execution_count": 164,
   "metadata": {},
   "outputs": [],
   "source": [
    "yhat=lm.predict(z)"
   ]
  },
  {
   "cell_type": "code",
   "execution_count": 165,
   "metadata": {},
   "outputs": [
    {
     "data": {
      "text/plain": [
       "(-0.20695710430332748,\n",
       " array([-0.00208449,  0.00924283,  0.1085109 ,  0.24398864,  0.11502039]))"
      ]
     },
     "execution_count": 165,
     "metadata": {},
     "output_type": "execute_result"
    }
   ],
   "source": [
    "#INTERCEPT AND CO-FFICIENTS \n",
    "lm.intercept_,lm.coef_"
   ]
  },
  {
   "cell_type": "markdown",
   "metadata": {},
   "source": [
    "# Regression Plots "
   ]
  },
  {
   "cell_type": "code",
   "execution_count": 166,
   "metadata": {},
   "outputs": [
    {
     "data": {
      "text/plain": [
       "<matplotlib.axes._subplots.AxesSubplot at 0x25f256780a0>"
      ]
     },
     "execution_count": 166,
     "metadata": {},
     "output_type": "execute_result"
    },
    {
     "data": {
      "image/png": "[encoded data removed]",
      "text/plain": [
       "<Figure size 432x288 with 1 Axes>"
      ]
     },
     "metadata": {
      "needs_background": "light"
     },
     "output_type": "display_data"
    }
   ],
   "source": [
    "import seaborn as sns \n",
    "sns.regplot(x=df_plasma['Weight'],y=y,data=df_plasma)\n"
   ]
  },
  {
   "cell_type": "code",
   "execution_count": 167,
   "metadata": {},
   "outputs": [
    {
     "data": {
      "text/plain": [
       "<matplotlib.axes._subplots.AxesSubplot at 0x25f256dbc40>"
      ]
     },
     "execution_count": 167,
     "metadata": {},
     "output_type": "execute_result"
    },
    {
     "data": {
      "image/png": "[encoded data removed]",
      "text/plain": [
       "<Figure size 432x288 with 1 Axes>"
      ]
     },
     "metadata": {
      "needs_background": "light"
     },
     "output_type": "display_data"
    }
   ],
   "source": [
    "axl=sns.distplot(y,hist=False,color='r',label=\"Actual value\")\n",
    "sns.distplot(yhat,hist=False,ax=axl,color='b',label='Fitted')\n"
   ]
  },
  {
   "cell_type": "markdown",
   "metadata": {},
   "source": [
    "IN ACCORDANCE WITH OUR ANLYSIS UPTIL NOW , LINERA MODEL IS NOT THE BEST FIT FOR OUR DATASET ,NEED TO TEST OTHER REGRESSION MODELS SUCH AS POLYNOMIAL , RIDGE REGRESSION ETC  AND SOME OF THE VARIABLES MIGHT NEED LOG TRANSFORMATION ."
   ]
  },
  {
   "cell_type": "code",
   "execution_count": null,
   "metadata": {},
   "outputs": [],
   "source": []
  }
 ],
 "metadata": {
  "kernelspec": {
   "display_name": "Python 3",
   "language": "python",
   "name": "python3"
  },
  "language_info": {
   "codemirror_mode": {
    "name": "ipython",
    "version": 3
   },
   "file_extension": ".py",
   "mimetype": "text/x-python",
   "name": "python",
   "nbconvert_exporter": "python",
   "pygments_lexer": "ipython3",
   "version": "3.8.3"
  }
 },
 "nbformat": 4,
 "nbformat_minor": 4
}
